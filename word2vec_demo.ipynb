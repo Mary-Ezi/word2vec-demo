{
 "cells": [
  {
   "cell_type": "code",
   "execution_count": 14,
   "metadata": {},
   "outputs": [],
   "source": [
    "import gensim\n",
    "from gensim.similarities.annoy import AnnoyIndexer\n",
    "\n",
    "# Load Google's pre-trained Word2Vec model.\n",
    "model = gensim.models.KeyedVectors.load_word2vec_format('GoogleNews-vectors-negative300.bin', binary=True)\n",
    "# Index the embeddings\n",
    "indexer = AnnoyIndexer(model, 100)"
   ]
  },
  {
   "cell_type": "code",
   "execution_count": 92,
   "metadata": {},
   "outputs": [
    {
     "data": {
      "text/plain": [
       "[('Seattle', 0.9998273665114539),\n",
       " ('Tacoma', 0.6431189775466919),\n",
       " ('Portland', 0.6022971570491791),\n",
       " ('Issaquah', 0.5841160416603088),\n",
       " ('Spokane', 0.5830266177654266),\n",
       " ('San_Francisco', 0.5752672553062439),\n",
       " ('Bellevue', 0.5741827487945557),\n",
       " ('Portland_Ore.', 0.5733469724655151),\n",
       " ('Puyallup', 0.5702681839466095),\n",
       " ('Woodinville', 0.561480700969696)]"
      ]
     },
     "execution_count": 92,
     "metadata": {},
     "output_type": "execute_result"
    }
   ],
   "source": [
    "model.most_similar('Seattle', topn=10, indexer=indexer)"
   ]
  },
  {
   "cell_type": "code",
   "execution_count": 93,
   "metadata": {},
   "outputs": [
    {
     "data": {
      "text/plain": [
       "[('airport', 0.6302245855331421),\n",
       " ('Sea_Tac', 0.6126029193401337),\n",
       " ('Sea_Tac_Airport', 0.5945702791213989),\n",
       " ('International_Airport', 0.5482435822486877),\n",
       " ('PBIA', 0.5340796411037445),\n",
       " ('Airport', 0.53254234790802),\n",
       " ('McKellar_Sipes', 0.530109703540802),\n",
       " ('spokesman_Brian_Kulpin', 0.5220913589000702),\n",
       " ('Dulles_Airport', 0.5206075310707092),\n",
       " ('Austin_Straubel', 0.5196338593959808)]"
      ]
     },
     "execution_count": 93,
     "metadata": {},
     "output_type": "execute_result"
    }
   ],
   "source": [
    "model.most_similar(positive=['Seattle', 'airport'], topn=10, indexer=indexer)"
   ]
  },
  {
   "cell_type": "code",
   "execution_count": 15,
   "metadata": {},
   "outputs": [
    {
     "data": {
      "text/plain": [
       "[('queen', 0.6204076111316681),\n",
       " ('princess', 0.5473649501800537),\n",
       " ('prince', 0.5192361176013947),\n",
       " ('Queen_Consort', 0.5119397938251495),\n",
       " ('royal', 0.49691975116729736),\n",
       " ('Princess_Sikhanyiso', 0.49684083461761475),\n",
       " ('empress', 0.4944218397140503),\n",
       " ('very_pampered_McElhatton', 0.48831820487976074),\n",
       " ('goddess', 0.483345627784729),\n",
       " ('reigning_monarch', 0.4755306839942932)]"
      ]
     },
     "execution_count": 15,
     "metadata": {},
     "output_type": "execute_result"
    }
   ],
   "source": [
    "model.most_similar(positive=['king', 'woman'], negative=['man'], topn=10, indexer=indexer)"
   ]
  },
  {
   "cell_type": "code",
   "execution_count": 33,
   "metadata": {},
   "outputs": [
    {
     "data": {
      "text/plain": [
       "[('Berlin', 0.6567801833152771),\n",
       " ('Frankfurt', 0.6346054673194885),\n",
       " ('Dusseldorf', 0.6133125722408295),\n",
       " ('Munich', 0.5983697772026062),\n",
       " ('Germany', 0.5892285108566284),\n",
       " ('Düsseldorf', 0.5757094919681549),\n",
       " ('Stuttgart', 0.5734466314315796),\n",
       " ('Munich_Germany', 0.5663032531738281),\n",
       " ('Budapest', 0.5637010931968689),\n",
       " ('Vienna', 0.5573684275150299)]"
      ]
     },
     "execution_count": 33,
     "metadata": {},
     "output_type": "execute_result"
    }
   ],
   "source": [
    "model.most_similar(positive=['Paris', 'Germany'], negative=['France'], topn=10, indexer=indexer)"
   ]
  }
 ],
 "metadata": {
  "interpreter": {
   "hash": "242ac423a76f67ac3f663ac5bdac2affeaacff64c864a5ab42d0e670b85353bc"
  },
  "kernelspec": {
   "display_name": "Python 3.8.12 ('py38')",
   "language": "python",
   "name": "python3"
  },
  "language_info": {
   "codemirror_mode": {
    "name": "ipython",
    "version": 3
   },
   "file_extension": ".py",
   "mimetype": "text/x-python",
   "name": "python",
   "nbconvert_exporter": "python",
   "pygments_lexer": "ipython3",
   "version": "3.8.12"
  },
  "orig_nbformat": 4
 },
 "nbformat": 4,
 "nbformat_minor": 2
}
